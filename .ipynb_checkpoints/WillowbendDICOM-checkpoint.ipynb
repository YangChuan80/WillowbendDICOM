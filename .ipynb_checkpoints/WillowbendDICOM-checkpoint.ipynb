{
 "cells": [
  {
   "cell_type": "markdown",
   "metadata": {},
   "source": [
    "# Willowbend DICOM\n",
    "<img src=\"Title.png\" align=\"left\" width=\"45%\" height=\"45%\">"
   ]
  },
  {
   "cell_type": "markdown",
   "metadata": {},
   "source": [
    "A dialog-based DICOM to video converter.\n",
    "\n",
    "**DICOM (Digital Imaging and Communications in Medicine)** is a standard for handling, storing, printing, and transmitting information in medical imaging. DICOM files can be exchanged between two entities that are capable of receiving image and patient data in DICOM format by following network communications protocol. DICOM has been widely adopted by hospitals and is making inroads in smaller applications like dentists' and doctors' offices.\n",
    "\n",
    "This project is to implement the process of conversion from DICOM format to video format (avi) in order to meet the needs and requirements for universal computer systems (PC, Mac, Linux, etc.). So the ordinary users of such systems can use the converted file to present, communicate and store the universal files. Case reports in medical conferences, educations of clinical medicine will become more convenient to use universal video formats in the slide presentations."
   ]
  },
  {
   "cell_type": "markdown",
   "metadata": {},
   "source": [
    "## Libraries"
   ]
  },
  {
   "cell_type": "code",
   "execution_count": 1,
   "metadata": {
    "collapsed": false
   },
   "outputs": [
    {
     "ename": "ImportError",
     "evalue": "No module named '_SimpleITK'",
     "output_type": "error",
     "traceback": [
      "\u001b[1;31m---------------------------------------------------------------------------\u001b[0m",
      "\u001b[1;31mImportError\u001b[0m                               Traceback (most recent call last)",
      "\u001b[1;32mC:\\Anaconda3\\lib\\site-packages\\SimpleITK\\SimpleITK.py\u001b[0m in \u001b[0;36mswig_import_helper\u001b[1;34m()\u001b[0m\n\u001b[0;32m     17\u001b[0m         \u001b[1;32mtry\u001b[0m\u001b[1;33m:\u001b[0m\u001b[1;33m\u001b[0m\u001b[0m\n\u001b[1;32m---> 18\u001b[1;33m             \u001b[1;32mreturn\u001b[0m \u001b[0mimportlib\u001b[0m\u001b[1;33m.\u001b[0m\u001b[0mimport_module\u001b[0m\u001b[1;33m(\u001b[0m\u001b[0mmname\u001b[0m\u001b[1;33m)\u001b[0m\u001b[1;33m\u001b[0m\u001b[0m\n\u001b[0m\u001b[0;32m     19\u001b[0m         \u001b[1;32mexcept\u001b[0m \u001b[0mImportError\u001b[0m\u001b[1;33m:\u001b[0m\u001b[1;33m\u001b[0m\u001b[0m\n",
      "\u001b[1;32mC:\\Anaconda3\\lib\\importlib\\__init__.py\u001b[0m in \u001b[0;36mimport_module\u001b[1;34m(name, package)\u001b[0m\n\u001b[0;32m    108\u001b[0m             \u001b[0mlevel\u001b[0m \u001b[1;33m+=\u001b[0m \u001b[1;36m1\u001b[0m\u001b[1;33m\u001b[0m\u001b[0m\n\u001b[1;32m--> 109\u001b[1;33m     \u001b[1;32mreturn\u001b[0m \u001b[0m_bootstrap\u001b[0m\u001b[1;33m.\u001b[0m\u001b[0m_gcd_import\u001b[0m\u001b[1;33m(\u001b[0m\u001b[0mname\u001b[0m\u001b[1;33m[\u001b[0m\u001b[0mlevel\u001b[0m\u001b[1;33m:\u001b[0m\u001b[1;33m]\u001b[0m\u001b[1;33m,\u001b[0m \u001b[0mpackage\u001b[0m\u001b[1;33m,\u001b[0m \u001b[0mlevel\u001b[0m\u001b[1;33m)\u001b[0m\u001b[1;33m\u001b[0m\u001b[0m\n\u001b[0m\u001b[0;32m    110\u001b[0m \u001b[1;33m\u001b[0m\u001b[0m\n",
      "\u001b[1;32mC:\\Anaconda3\\lib\\importlib\\_bootstrap.py\u001b[0m in \u001b[0;36m_gcd_import\u001b[1;34m(name, package, level)\u001b[0m\n",
      "\u001b[1;32mC:\\Anaconda3\\lib\\importlib\\_bootstrap.py\u001b[0m in \u001b[0;36m_find_and_load\u001b[1;34m(name, import_)\u001b[0m\n",
      "\u001b[1;32mC:\\Anaconda3\\lib\\importlib\\_bootstrap.py\u001b[0m in \u001b[0;36m_find_and_load_unlocked\u001b[1;34m(name, import_)\u001b[0m\n",
      "\u001b[1;32mC:\\Anaconda3\\lib\\importlib\\_bootstrap.py\u001b[0m in \u001b[0;36m_load_unlocked\u001b[1;34m(self)\u001b[0m\n",
      "\u001b[1;32mC:\\Anaconda3\\lib\\importlib\\_bootstrap.py\u001b[0m in \u001b[0;36m_load_backward_compatible\u001b[1;34m(self)\u001b[0m\n",
      "\u001b[1;32mC:\\Anaconda3\\lib\\importlib\\_bootstrap.py\u001b[0m in \u001b[0;36m_check_name_wrapper\u001b[1;34m(self, name, *args, **kwargs)\u001b[0m\n",
      "\u001b[1;32mC:\\Anaconda3\\lib\\importlib\\_bootstrap.py\u001b[0m in \u001b[0;36mload_module\u001b[1;34m(self, fullname)\u001b[0m\n",
      "\u001b[1;32mC:\\Anaconda3\\lib\\importlib\\_bootstrap.py\u001b[0m in \u001b[0;36m_call_with_frames_removed\u001b[1;34m(f, *args, **kwds)\u001b[0m\n",
      "\u001b[1;31mImportError\u001b[0m: DLL load failed: The specified module could not be found.",
      "\nDuring handling of the above exception, another exception occurred:\n",
      "\u001b[1;31mImportError\u001b[0m                               Traceback (most recent call last)",
      "\u001b[1;32m<ipython-input-1-dbe34079b11b>\u001b[0m in \u001b[0;36m<module>\u001b[1;34m()\u001b[0m\n\u001b[1;32m----> 1\u001b[1;33m \u001b[1;32mimport\u001b[0m \u001b[0mSimpleITK\u001b[0m \u001b[1;32mas\u001b[0m \u001b[0msitk\u001b[0m\u001b[1;33m\u001b[0m\u001b[0m\n\u001b[0m\u001b[0;32m      2\u001b[0m \u001b[1;32mimport\u001b[0m \u001b[0mcv2\u001b[0m\u001b[1;33m\u001b[0m\u001b[0m\n\u001b[0;32m      3\u001b[0m \u001b[1;32mimport\u001b[0m \u001b[0mpydicom\u001b[0m\u001b[1;33m\u001b[0m\u001b[0m\n\u001b[0;32m      4\u001b[0m \u001b[1;32mimport\u001b[0m \u001b[0mnumpy\u001b[0m \u001b[1;32mas\u001b[0m \u001b[0mnp\u001b[0m\u001b[1;33m\u001b[0m\u001b[0m\n\u001b[0;32m      5\u001b[0m \u001b[1;32mimport\u001b[0m \u001b[0mtkinter\u001b[0m \u001b[1;32mas\u001b[0m \u001b[0mtk\u001b[0m\u001b[1;33m\u001b[0m\u001b[0m\n",
      "\u001b[1;32mC:\\Anaconda3\\lib\\site-packages\\SimpleITK\\__init__.py\u001b[0m in \u001b[0;36m<module>\u001b[1;34m()\u001b[0m\n\u001b[1;32m----> 1\u001b[1;33m \u001b[1;32mfrom\u001b[0m \u001b[1;33m.\u001b[0m\u001b[0mSimpleITK\u001b[0m \u001b[1;32mimport\u001b[0m \u001b[1;33m*\u001b[0m\u001b[1;33m\u001b[0m\u001b[0m\n\u001b[0m",
      "\u001b[1;32mC:\\Anaconda3\\lib\\site-packages\\SimpleITK\\SimpleITK.py\u001b[0m in \u001b[0;36m<module>\u001b[1;34m()\u001b[0m\n\u001b[0;32m     19\u001b[0m         \u001b[1;32mexcept\u001b[0m \u001b[0mImportError\u001b[0m\u001b[1;33m:\u001b[0m\u001b[1;33m\u001b[0m\u001b[0m\n\u001b[0;32m     20\u001b[0m             \u001b[1;32mreturn\u001b[0m \u001b[0mimportlib\u001b[0m\u001b[1;33m.\u001b[0m\u001b[0mimport_module\u001b[0m\u001b[1;33m(\u001b[0m\u001b[1;34m'_SimpleITK'\u001b[0m\u001b[1;33m)\u001b[0m\u001b[1;33m\u001b[0m\u001b[0m\n\u001b[1;32m---> 21\u001b[1;33m     \u001b[0m_SimpleITK\u001b[0m \u001b[1;33m=\u001b[0m \u001b[0mswig_import_helper\u001b[0m\u001b[1;33m(\u001b[0m\u001b[1;33m)\u001b[0m\u001b[1;33m\u001b[0m\u001b[0m\n\u001b[0m\u001b[0;32m     22\u001b[0m     \u001b[1;32mdel\u001b[0m \u001b[0mswig_import_helper\u001b[0m\u001b[1;33m\u001b[0m\u001b[0m\n\u001b[0;32m     23\u001b[0m \u001b[1;32melif\u001b[0m \u001b[0m_swig_python_version_info\u001b[0m \u001b[1;33m>=\u001b[0m \u001b[1;33m(\u001b[0m\u001b[1;36m2\u001b[0m\u001b[1;33m,\u001b[0m \u001b[1;36m6\u001b[0m\u001b[1;33m,\u001b[0m \u001b[1;36m0\u001b[0m\u001b[1;33m)\u001b[0m\u001b[1;33m:\u001b[0m\u001b[1;33m\u001b[0m\u001b[0m\n",
      "\u001b[1;32mC:\\Anaconda3\\lib\\site-packages\\SimpleITK\\SimpleITK.py\u001b[0m in \u001b[0;36mswig_import_helper\u001b[1;34m()\u001b[0m\n\u001b[0;32m     18\u001b[0m             \u001b[1;32mreturn\u001b[0m \u001b[0mimportlib\u001b[0m\u001b[1;33m.\u001b[0m\u001b[0mimport_module\u001b[0m\u001b[1;33m(\u001b[0m\u001b[0mmname\u001b[0m\u001b[1;33m)\u001b[0m\u001b[1;33m\u001b[0m\u001b[0m\n\u001b[0;32m     19\u001b[0m         \u001b[1;32mexcept\u001b[0m \u001b[0mImportError\u001b[0m\u001b[1;33m:\u001b[0m\u001b[1;33m\u001b[0m\u001b[0m\n\u001b[1;32m---> 20\u001b[1;33m             \u001b[1;32mreturn\u001b[0m \u001b[0mimportlib\u001b[0m\u001b[1;33m.\u001b[0m\u001b[0mimport_module\u001b[0m\u001b[1;33m(\u001b[0m\u001b[1;34m'_SimpleITK'\u001b[0m\u001b[1;33m)\u001b[0m\u001b[1;33m\u001b[0m\u001b[0m\n\u001b[0m\u001b[0;32m     21\u001b[0m     \u001b[0m_SimpleITK\u001b[0m \u001b[1;33m=\u001b[0m \u001b[0mswig_import_helper\u001b[0m\u001b[1;33m(\u001b[0m\u001b[1;33m)\u001b[0m\u001b[1;33m\u001b[0m\u001b[0m\n\u001b[0;32m     22\u001b[0m     \u001b[1;32mdel\u001b[0m \u001b[0mswig_import_helper\u001b[0m\u001b[1;33m\u001b[0m\u001b[0m\n",
      "\u001b[1;32mC:\\Anaconda3\\lib\\importlib\\__init__.py\u001b[0m in \u001b[0;36mimport_module\u001b[1;34m(name, package)\u001b[0m\n\u001b[0;32m    107\u001b[0m                 \u001b[1;32mbreak\u001b[0m\u001b[1;33m\u001b[0m\u001b[0m\n\u001b[0;32m    108\u001b[0m             \u001b[0mlevel\u001b[0m \u001b[1;33m+=\u001b[0m \u001b[1;36m1\u001b[0m\u001b[1;33m\u001b[0m\u001b[0m\n\u001b[1;32m--> 109\u001b[1;33m     \u001b[1;32mreturn\u001b[0m \u001b[0m_bootstrap\u001b[0m\u001b[1;33m.\u001b[0m\u001b[0m_gcd_import\u001b[0m\u001b[1;33m(\u001b[0m\u001b[0mname\u001b[0m\u001b[1;33m[\u001b[0m\u001b[0mlevel\u001b[0m\u001b[1;33m:\u001b[0m\u001b[1;33m]\u001b[0m\u001b[1;33m,\u001b[0m \u001b[0mpackage\u001b[0m\u001b[1;33m,\u001b[0m \u001b[0mlevel\u001b[0m\u001b[1;33m)\u001b[0m\u001b[1;33m\u001b[0m\u001b[0m\n\u001b[0m\u001b[0;32m    110\u001b[0m \u001b[1;33m\u001b[0m\u001b[0m\n\u001b[0;32m    111\u001b[0m \u001b[1;33m\u001b[0m\u001b[0m\n",
      "\u001b[1;31mImportError\u001b[0m: No module named '_SimpleITK'"
     ]
    }
   ],
   "source": [
    "import SimpleITK as sitk\n",
    "import cv2\n",
    "import pydicom\n",
    "import numpy as np\n",
    "import tkinter as tk\n",
    "from tkinter import ttk\n",
    "from tkinter import messagebox\n",
    "from tkinter import filedialog"
   ]
  },
  {
   "cell_type": "markdown",
   "metadata": {},
   "source": [
    "## Helper Functions"
   ]
  },
  {
   "cell_type": "markdown",
   "metadata": {},
   "source": [
    "### Basic Helper Functions"
   ]
  },
  {
   "cell_type": "code",
   "execution_count": null,
   "metadata": {
    "collapsed": true
   },
   "outputs": [],
   "source": [
    "def loadFile(filename):\n",
    "    ds = sitk.ReadImage(filename)\n",
    "    img_array = sitk.GetArrayFromImage(ds)\n",
    "    frame_num, width, height = img_array.shape\n",
    "    return img_array, frame_num, width, height"
   ]
  },
  {
   "cell_type": "code",
   "execution_count": null,
   "metadata": {
    "collapsed": true
   },
   "outputs": [],
   "source": [
    "def loadFileInformation(filename):\n",
    "    information = {}\n",
    "    ds = pydicom.read_file(filename)\n",
    "    \n",
    "    information['PatientID'] = ds.PatientID\n",
    "    information['PatientName'] = ds.PatientName\n",
    "    information['PatientBirthDate'] = ds.PatientBirthDate\n",
    "    information['PatientSex'] = ds.PatientSex\n",
    "    information['StudyID'] = ds.StudyID\n",
    "    information['StudyDate'] = ds.StudyDate\n",
    "    information['StudyTime'] = ds.StudyTime\n",
    "    information['InstitutionName'] = ds.InstitutionName\n",
    "    information['Manufacturer'] = ds.Manufacturer\n",
    "    information['NumberOfFrames'] =ds.NumberOfFrames\n",
    "    \n",
    "    return information"
   ]
  },
  {
   "cell_type": "code",
   "execution_count": null,
   "metadata": {
    "collapsed": true
   },
   "outputs": [],
   "source": [
    "def autoEqualize(img_array):\n",
    "    img_array_list = []\n",
    "    for img in img_array:\n",
    "        img_array_list.append(cv2.equalizeHist(img))\n",
    "    img_array_equalized = np.array(img_array_list)\n",
    "    return img_array_equalized"
   ]
  },
  {
   "cell_type": "code",
   "execution_count": null,
   "metadata": {
    "collapsed": false
   },
   "outputs": [],
   "source": [
    "def limitedEqualize(img_array, limit=4.0):\n",
    "    img_array_list = []\n",
    "    for img in img_array:\n",
    "        clahe = cv2.createCLAHE(clipLimit=limit, tileGridSize=(8,8))  #CLAHE (Contrast Limited Adaptive Histogram Equalization)\n",
    "        img_array_list.append(clahe.apply(img))\n",
    "        \n",
    "    img_array_limited_equalized = np.array(img_array_list, dtype=np.uint8)\n",
    "    return img_array_limited_equalized   "
   ]
  },
  {
   "cell_type": "code",
   "execution_count": null,
   "metadata": {
    "collapsed": false
   },
   "outputs": [],
   "source": [
    "def writeVideo(img_array, directory):\n",
    "    frame_num, width, height = img_array.shape\n",
    "    filename_output = directory + '/' + filename.split('.')[0].split('/')[-1] + '.avi'        \n",
    "    \n",
    "    #fourcc = cv2.VideoWriter_fourcc(*'XVID')\n",
    "    #video = cv2.VideoWriter(filename_output, fourcc, 15, (width, height))\n",
    "    # Above is for Mac OSX use only./////////////////////////////////////////////////////////////\n",
    "    \n",
    "    video = cv2.VideoWriter(filename_output, -1, 15, (width, height)) # Initialize Video File   \n",
    "       \n",
    "    for img in img_array:\n",
    "        img_rgb = cv2.cvtColor(img, cv2.COLOR_GRAY2BGR)\n",
    "        video.write(img_rgb) # Write video file frame by frame\n",
    "        \n",
    "    video.release()"
   ]
  },
  {
   "cell_type": "markdown",
   "metadata": {},
   "source": [
    "## GUI Helper Function"
   ]
  },
  {
   "cell_type": "code",
   "execution_count": null,
   "metadata": {
    "collapsed": true
   },
   "outputs": [],
   "source": [
    "def browseFileButton():\n",
    "    global filename\n",
    "    \n",
    "    try:\n",
    "        filename = filedialog.askopenfilename(filetypes=(('DICOM files', '*.dcm'), ('All files', '*.*')))\n",
    "        information = loadFileInformation(filename)\n",
    "\n",
    "        text_filename.delete('1.0', tk.END)\n",
    "        text_filename.insert('1.0', filename)\n",
    "\n",
    "        text_PatientID.delete('1.0', tk.END)\n",
    "        text_PatientID.insert('1.0', information['PatientID'])\n",
    "\n",
    "        text_PatientName.delete('1.0', tk.END)\n",
    "        text_PatientName.insert('1.0', information['PatientName'])\n",
    "\n",
    "        text_PatientSex.delete('1.0', tk.END)\n",
    "        text_PatientSex.insert('1.0', information['PatientSex'])\n",
    "\n",
    "        text_PatientBirthDate.delete('1.0', tk.END)\n",
    "        text_PatientBirthDate.insert('1.0', information['PatientBirthDate'])\n",
    "\n",
    "        text_StudyID.delete('1.0', tk.END)\n",
    "        text_StudyID.insert('1.0', information['StudyID'])\n",
    "\n",
    "        text_StudyDate.delete('1.0', tk.END)\n",
    "        text_StudyDate.insert('1.0', information['StudyDate'])\n",
    "\n",
    "        text_StudyTime.delete('1.0', tk.END)\n",
    "        text_StudyTime.insert('1.0', information['StudyTime'])\n",
    "\n",
    "        text_InstitutionName.delete('1.0', tk.END)\n",
    "        text_InstitutionName.insert('1.0', information['InstitutionName'])\n",
    "\n",
    "        text_Manufacturer.delete('1.0', tk.END)\n",
    "        text_Manufacturer.insert('1.0', information['Manufacturer'])\n",
    "\n",
    "        text_NumberOfFrames.delete('1.0', tk.END)\n",
    "        text_NumberOfFrames.insert('1.0', information['NumberOfFrames'])\n",
    "        \n",
    "    except:\n",
    "        filename = ''"
   ]
  },
  {
   "cell_type": "code",
   "execution_count": null,
   "metadata": {
    "collapsed": true
   },
   "outputs": [],
   "source": [
    "def loadFileButton():\n",
    "    global img_array, frame_num, width, height, information, isLoad\n",
    "    \n",
    "    if filename == '':\n",
    "        messagebox.showwarning(\"No File\", \"Sorry, no file loaded! Please choose DICOM file first.\")\n",
    "    else:\n",
    "        try:\n",
    "            img_array, frame_num, width, height = loadFile(filename)\n",
    "            information = loadFileInformation(filename) \n",
    "            isLoad = 1\n",
    "            messagebox.showinfo(\"DICOM File Loaded\", \"DICOM file successfully loaded!\")\n",
    "        except:\n",
    "            messagebox.showwarning(\"File Loading Failed\", \"Sorry, file loading failed! Please check the file format.\")"
   ]
  },
  {
   "cell_type": "code",
   "execution_count": null,
   "metadata": {
    "collapsed": true
   },
   "outputs": [],
   "source": [
    "def convertVideoButton():\n",
    "    global isLoad, clipLimit\n",
    "    \n",
    "    clipLimit = float(text_clipLimit.get('1.0', tk.END))\n",
    "    \n",
    "    directory = filedialog.askdirectory()\n",
    "    \n",
    "    if filename == '':\n",
    "        messagebox.showwarning(\"No File to be Converted\", \"Sorry, no file to be converted! Please choose a DICOM file first.\")\n",
    "    elif isLoad == 0:\n",
    "        messagebox.showwarning(\"No File Loaded\", \"Sorry, no file loaded! Please load the chosen DICOM file.\")\n",
    "    elif directory == '':\n",
    "        messagebox.showwarning(\"No Directory\", \"Sorry, no directory shown! Please specify the output directory.\")\n",
    "    else:\n",
    "        img_array_limited_equalized = limitedEqualize(img_array, clipLimit)\n",
    "        writeVideo(img_array_limited_equalized, directory)\n",
    "        messagebox.showinfo(\"Video File Converted\", \"Video file successfully generated!\")\n",
    "        isLoad = 0"
   ]
  },
  {
   "cell_type": "code",
   "execution_count": null,
   "metadata": {
    "collapsed": true
   },
   "outputs": [],
   "source": [
    "def about():\n",
    "    about_root=tk.Tk()\n",
    "    \n",
    "    w = 367 # width for the Tk root\n",
    "    h = 230 # height for the Tk root\n",
    "\n",
    "    # get screen width and height\n",
    "    ws = about_root.winfo_screenwidth() # width of the screen\n",
    "    hs = about_root.winfo_screenheight() # height of the screen\n",
    "\n",
    "    # calculate x and y coordinates for the Tk root window\n",
    "    x = (ws/2) - (w/2)\n",
    "    y = (hs/2) - (h/2)\n",
    "\n",
    "    # set the dimensions of the screen \n",
    "    # and where it is placed\n",
    "    about_root.geometry('%dx%d+%d+%d' % (w, h, x, y))\n",
    "    about_root.title('About Willowbend DICOM')  \n",
    "    about_root.iconbitmap('Heart.ico')\n",
    "\n",
    "    label_author=tk.Label(about_root,text='Willowbend DICOM Version 1.0', font=('tahoma', 9))\n",
    "    label_author.place(x=90,y=30)\n",
    "\n",
    "    label_author=tk.Label(about_root,text='Copyright (C) 2016', font=('tahoma', 9))\n",
    "    label_author.place(x=125,y=60)\n",
    "    \n",
    "    label_author=tk.Label(about_root,text='Author: Chuan Yang', font=('tahoma', 9))\n",
    "    label_author.place(x=125,y=90)\n",
    "    \n",
    "    label_author=tk.Label(about_root,text='Shengjing Hospital of China Medical University', font=('tahoma', 9))\n",
    "    label_author.place(x=50,y=120)\n",
    "   \n",
    "\n",
    "    button_refresh=ttk.Button(about_root, width=15, text='OK', command=about_root.destroy)\n",
    "    button_refresh.place(x=135, y=170)\n",
    "\n",
    "    about_root.mainloop()"
   ]
  },
  {
   "cell_type": "markdown",
   "metadata": {},
   "source": [
    "## Main Stream"
   ]
  },
  {
   "cell_type": "code",
   "execution_count": null,
   "metadata": {
    "collapsed": false
   },
   "outputs": [],
   "source": [
    "# Main Frame////////////////////////////////////////////////////////////////////////////////////////\n",
    "root = tk.Tk()\n",
    "\n",
    "w = 930 # width for the Tk root\n",
    "h = 660 # height for the Tk root\n",
    "\n",
    "# get screen width and height\n",
    "ws = root.winfo_screenwidth() # width of the screen\n",
    "hs = root.winfo_screenheight() # height of the screen\n",
    "\n",
    "# calculate x and y coordinates for the Tk root window\n",
    "x = (ws/2) - (w/2)\n",
    "y = (hs/2) - (h/2)\n",
    "\n",
    "# set the dimensions of the screen \n",
    "# and where it is placed\n",
    "root.geometry('%dx%d+%d+%d' % (w, h, x, y))\n",
    "#root.attributes('-fullscreen', True)\n",
    "root.title('Willowbend DICOM')\n",
    "root.iconbitmap('Heart.ico')\n",
    "\n",
    "isLoad = 0\n",
    "clipLimit = 3.0\n",
    "filename = ''\n",
    "\n",
    "#///////////Image Title///////////////////////////////\n",
    "photo=tk.PhotoImage(file='Title.png')\n",
    "label_photo=tk.Label(root, image=photo, relief='sunken', borderwidth=3)\n",
    "label_photo.place(x=260,y=35)\n",
    "\n",
    "#/////////////Text///////////////////////////////////////////////////////////////////\n",
    "\n",
    "text_PatientID=tk.Text(root, width=20,height=1, font=('tahoma', 9), bd=2)\n",
    "text_PatientID.place(x=60, y=90)\n",
    "label_PatientID=tk.Label(root, text='Patient ID', font=('tahoma', 9))\n",
    "label_PatientID.place(x=60,y=60)\n",
    "\n",
    "#//////////////////\n",
    "y_position = 180\n",
    "text_PatientName=tk.Text(root, width=30,height=1, font=('tahoma', 9), bd=2)\n",
    "text_PatientName.place(x=60, y=y_position)\n",
    "label_PatientName=tk.Label(root, text='Patient\\'s Name:', font=('tahoma', 9))\n",
    "label_PatientName.place(x=60,y=y_position-30)\n",
    "\n",
    "text_PatientSex=tk.Text(root, width=15,height=1, font=('tahoma', 9), bd=2)\n",
    "text_PatientSex.place(x=360, y=y_position)\n",
    "label_PatientSex=tk.Label(root, text='Gender:', font=('tahoma', 9))\n",
    "label_PatientSex.place(x=360,y=y_position-30)\n",
    "\n",
    "text_PatientBirthDate=tk.Text(root, width=25,height=1, font=('tahoma', 9), bd=2)\n",
    "text_PatientBirthDate.place(x=560, y=y_position)\n",
    "label_PatientBirthDate=tk.Label(root, text='Birth Date:', font=('tahoma', 9))\n",
    "label_PatientBirthDate.place(x=560,y=y_position-30)\n",
    "\n",
    "#//////////////////////////////////////////////////////////////////////////////////\n",
    "y_position = 260\n",
    "text_StudyID=tk.Text(root, width=25,height=1, font=('tahoma', 9), bd=2)\n",
    "text_StudyID.place(x=60, y=y_position)\n",
    "label_StudyID=tk.Label(root, text='Study ID:', font=('tahoma', 9))\n",
    "label_StudyID.place(x=60,y=y_position-30)\n",
    "\n",
    "text_StudyDate=tk.Text(root, width=25,height=1, font=('tahoma', 9), bd=2)\n",
    "text_StudyDate.place(x=340, y=y_position)\n",
    "label_StudyDate=tk.Label(root, text='Study Date:', font=('tahoma', 9))\n",
    "label_StudyDate.place(x=340,y=y_position-30)\n",
    "\n",
    "text_StudyTime=tk.Text(root, width=25,height=1, font=('tahoma', 9), bd=2)\n",
    "text_StudyTime.place(x=600, y=y_position)\n",
    "label_StudyTime=tk.Label(root, text='Study Time:', font=('tahoma', 9))\n",
    "label_StudyTime.place(x=600,y=y_position-30)\n",
    "\n",
    "#////////////////////////////////////\n",
    "y_position = 340\n",
    "text_InstitutionName=tk.Text(root, width=50,height=1, font=('tahoma', 9), bd=2)\n",
    "text_InstitutionName.place(x=60, y=y_position)\n",
    "label_InstitutionName=tk.Label(root, text='Institution Name:', font=('tahoma', 9))\n",
    "label_InstitutionName.place(x=60,y=y_position-30)\n",
    "\n",
    "text_Manufacturer=tk.Text(root, width=38,height=1, font=('tahoma', 9), bd=2)\n",
    "text_Manufacturer.place(x=560, y=y_position)\n",
    "label_Manufacturer=tk.Label(root, text='Manufacturer:', font=('tahoma', 9))\n",
    "label_Manufacturer.place(x=560,y=y_position-30)\n",
    "\n",
    "# File Name\n",
    "text_filename=tk.Text(root, width=100,height=1, font=('tahoma', 9), bd=2)\n",
    "text_filename.place(x=60, y=450)\n",
    "label_filename=tk.Label(root, text='DICOM File:', font=('tahoma', 9))\n",
    "label_filename.place(x=60,y=420)\n",
    "\n",
    "text_NumberOfFrames=tk.Text(root, width=10,height=1, font=('tahoma', 9), bd=2)\n",
    "text_NumberOfFrames.place(x=660, y=400)\n",
    "label_NumberOfFrames=tk.Label(root, text='Frames', font=('tahoma', 9))\n",
    "label_NumberOfFrames.place(x=760,y=400)\n",
    "\n",
    "text_clipLimit=tk.Text(root, width=8,height=1, font=('tahoma', 9), bd=2)\n",
    "text_clipLimit.place(x=580, y=510)\n",
    "label_clipLimit=tk.Label(root, text='Clip Limit:', font=('tahoma', 9))\n",
    "label_clipLimit.place(x=500,y=510)\n",
    "text_clipLimit.delete('1.0', tk.END)\n",
    "text_clipLimit.insert('1.0', clipLimit)\n",
    "\n",
    "#/////////////Button///////////////////////////////////////////////////////////////\n",
    "button_browse=ttk.Button(root, text='Browse...', width=20, command=browseFileButton)\n",
    "button_browse.place(x=60, y=510)\n",
    "\n",
    "button_load=ttk.Button(root, text='Load', width=20, command=loadFileButton)\n",
    "button_load.place(x=260, y=510)\n",
    "\n",
    "button_convert=ttk.Button(root, text='Convert', width=20, command=convertVideoButton)\n",
    "button_convert.place(x=700, y=510)\n",
    "\n",
    "button_about=ttk.Button(root, text='About...', width=20, command=about)\n",
    "button_about.place(x=260, y=580)\n",
    "\n",
    "button_close=ttk.Button(root, width=20, text='Exit', command=root.destroy)\n",
    "button_close.place(x=700, y=580)"
   ]
  },
  {
   "cell_type": "code",
   "execution_count": null,
   "metadata": {
    "collapsed": true
   },
   "outputs": [],
   "source": [
    "cv2.destroyAllWindows()"
   ]
  },
  {
   "cell_type": "code",
   "execution_count": null,
   "metadata": {
    "collapsed": false
   },
   "outputs": [],
   "source": [
    "root.mainloop()"
   ]
  },
  {
   "cell_type": "markdown",
   "metadata": {},
   "source": [
    "### !!! Make sure to downgrade setuptools to 19.2. If this does get the frozen binary with PyInstaller !!!!\n",
    "Just hit this myself. Can confirm that downgrading to setuptools 19.2 fixes the issue for me."
   ]
  },
  {
   "cell_type": "code",
   "execution_count": null,
   "metadata": {
    "collapsed": true
   },
   "outputs": [],
   "source": [
    "### To install the SimpleITK package with conda run:\n",
    "\n",
    "```powershell\n",
    "conda install --channel https://conda.anaconda.org/SimpleITK SimpleITK\n",
    "```"
   ]
  }
 ],
 "metadata": {
  "kernelspec": {
   "display_name": "Python 3",
   "language": "python",
   "name": "python3"
  },
  "language_info": {
   "codemirror_mode": {
    "name": "ipython",
    "version": 3
   },
   "file_extension": ".py",
   "mimetype": "text/x-python",
   "name": "python",
   "nbconvert_exporter": "python",
   "pygments_lexer": "ipython3",
   "version": "3.4.3"
  }
 },
 "nbformat": 4,
 "nbformat_minor": 0
}
