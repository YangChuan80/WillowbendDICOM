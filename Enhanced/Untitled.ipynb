{
 "cells": [
  {
   "cell_type": "code",
   "execution_count": 1,
   "metadata": {},
   "outputs": [],
   "source": [
    "import cv2\n",
    "import numpy as np\n",
    " \n",
    "input = 'C://Users//triti//Desktop//Input//0000000C.avi'\n",
    "output = 'C://Users//triti//Desktop//Output//abc.avi'\n",
    "# Create a VideoCapture object\n",
    "cap = cv2.VideoCapture(input)\n",
    " \n",
    "# Check if camera opened successfully\n",
    "if (cap.isOpened() == False): \n",
    "  print(\"Unable to read camera feed\")\n",
    " \n",
    "# Default resolutions of the frame are obtained.The default resolutions are system dependent.\n",
    "# We convert the resolutions from float to integer.\n",
    "frame_width = int(cap.get(3))\n",
    "frame_height = int(cap.get(4))\n",
    " \n",
    "# Define the codec and create VideoWriter object.The output is stored in 'outpy.avi' file.\n",
    "out = cv2.VideoWriter(output,cv2.VideoWriter_fourcc('M','J','P','G'), 15, (frame_width,frame_height))\n",
    " \n",
    "while(True):\n",
    "  ret, frame = cap.read()\n",
    " \n",
    "  if ret == True: \n",
    "     \n",
    "    # Write the frame into the file 'output.avi'\n",
    "    out.write(frame)\n",
    " \n",
    "    # Display the resulting frame    \n",
    "    #cv2.imshow('frame',frame)\n",
    " \n",
    "    # Press Q on keyboard to stop recording\n",
    "    if cv2.waitKey(1) & 0xFF == ord('q'):\n",
    "      break\n",
    " \n",
    "  # Break the loop\n",
    "  else:\n",
    "    break \n",
    " \n",
    "# When everything done, release the video capture and video write objects\n",
    "cap.release()\n",
    "out.release()\n",
    " \n",
    "# Closes all the frames\n",
    "cv2.destroyAllWindows() "
   ]
  },
  {
   "cell_type": "code",
   "execution_count": 22,
   "metadata": {},
   "outputs": [
    {
     "data": {
      "text/plain": [
       "(False, None)"
      ]
     },
     "execution_count": 22,
     "metadata": {},
     "output_type": "execute_result"
    }
   ],
   "source": [
    "cap.read()"
   ]
  },
  {
   "cell_type": "code",
   "execution_count": 23,
   "metadata": {},
   "outputs": [],
   "source": [
    "cap = cv2.VideoCapture(input)"
   ]
  },
  {
   "cell_type": "code",
   "execution_count": 24,
   "metadata": {},
   "outputs": [
    {
     "data": {
      "text/plain": [
       "(True, array([[[12, 12, 12],\n",
       "         [ 9,  9,  9],\n",
       "         [ 9,  9,  9],\n",
       "         ...,\n",
       "         [12, 12, 12],\n",
       "         [12, 12, 12],\n",
       "         [12, 12, 12]],\n",
       " \n",
       "        [[ 9,  9,  9],\n",
       "         [12, 12, 12],\n",
       "         [12, 12, 12],\n",
       "         ...,\n",
       "         [12, 12, 12],\n",
       "         [13, 13, 13],\n",
       "         [14, 14, 14]],\n",
       " \n",
       "        [[ 9,  9,  9],\n",
       "         [ 9,  9,  9],\n",
       "         [12, 12, 12],\n",
       "         ...,\n",
       "         [13, 13, 13],\n",
       "         [14, 14, 14],\n",
       "         [14, 14, 14]],\n",
       " \n",
       "        ...,\n",
       " \n",
       "        [[16, 16, 16],\n",
       "         [19, 19, 19],\n",
       "         [13, 13, 13],\n",
       "         ...,\n",
       "         [ 7,  7,  7],\n",
       "         [ 6,  6,  6],\n",
       "         [ 5,  5,  5]],\n",
       " \n",
       "        [[13, 13, 13],\n",
       "         [19, 19, 19],\n",
       "         [16, 16, 16],\n",
       "         ...,\n",
       "         [ 6,  6,  6],\n",
       "         [ 4,  4,  4],\n",
       "         [ 4,  4,  4]],\n",
       " \n",
       "        [[13, 13, 13],\n",
       "         [19, 19, 19],\n",
       "         [16, 16, 16],\n",
       "         ...,\n",
       "         [ 4,  4,  4],\n",
       "         [ 4,  4,  4],\n",
       "         [ 3,  3,  3]]], dtype=uint8))"
      ]
     },
     "execution_count": 24,
     "metadata": {},
     "output_type": "execute_result"
    }
   ],
   "source": [
    "cap.read()"
   ]
  },
  {
   "cell_type": "code",
   "execution_count": 25,
   "metadata": {},
   "outputs": [],
   "source": [
    "ob = cap.read()"
   ]
  },
  {
   "cell_type": "code",
   "execution_count": 26,
   "metadata": {},
   "outputs": [
    {
     "data": {
      "text/plain": [
       "array([[[13, 13, 13],\n",
       "        [11, 11, 11],\n",
       "        [ 8,  8,  8],\n",
       "        ...,\n",
       "        [11, 11, 11],\n",
       "        [10, 10, 10],\n",
       "        [11, 11, 11]],\n",
       "\n",
       "       [[13, 13, 13],\n",
       "        [11, 11, 11],\n",
       "        [11, 11, 11],\n",
       "        ...,\n",
       "        [11, 11, 11],\n",
       "        [12, 12, 12],\n",
       "        [11, 11, 11]],\n",
       "\n",
       "       [[13, 13, 13],\n",
       "        [ 8,  8,  8],\n",
       "        [ 8,  8,  8],\n",
       "        ...,\n",
       "        [12, 12, 12],\n",
       "        [12, 12, 12],\n",
       "        [12, 12, 12]],\n",
       "\n",
       "       ...,\n",
       "\n",
       "       [[16, 16, 16],\n",
       "        [11, 11, 11],\n",
       "        [16, 16, 16],\n",
       "        ...,\n",
       "        [ 6,  6,  6],\n",
       "        [ 5,  5,  5],\n",
       "        [ 4,  4,  4]],\n",
       "\n",
       "       [[16, 16, 16],\n",
       "        [16, 16, 16],\n",
       "        [16, 16, 16],\n",
       "        ...,\n",
       "        [ 5,  5,  5],\n",
       "        [ 4,  4,  4],\n",
       "        [ 3,  3,  3]],\n",
       "\n",
       "       [[14, 14, 14],\n",
       "        [14, 14, 14],\n",
       "        [16, 16, 16],\n",
       "        ...,\n",
       "        [ 4,  4,  4],\n",
       "        [ 3,  3,  3],\n",
       "        [ 3,  3,  3]]], dtype=uint8)"
      ]
     },
     "execution_count": 26,
     "metadata": {},
     "output_type": "execute_result"
    }
   ],
   "source": [
    "ob[1]"
   ]
  },
  {
   "cell_type": "code",
   "execution_count": 27,
   "metadata": {},
   "outputs": [
    {
     "data": {
      "text/plain": [
       "numpy.ndarray"
      ]
     },
     "execution_count": 27,
     "metadata": {},
     "output_type": "execute_result"
    }
   ],
   "source": [
    "type(ob[1])"
   ]
  },
  {
   "cell_type": "code",
   "execution_count": null,
   "metadata": {},
   "outputs": [],
   "source": []
  }
 ],
 "metadata": {
  "kernelspec": {
   "display_name": "Python 3",
   "language": "python",
   "name": "python3"
  },
  "language_info": {
   "codemirror_mode": {
    "name": "ipython",
    "version": 3
   },
   "file_extension": ".py",
   "mimetype": "text/x-python",
   "name": "python",
   "nbconvert_exporter": "python",
   "pygments_lexer": "ipython3",
   "version": "3.7.3"
  }
 },
 "nbformat": 4,
 "nbformat_minor": 2
}
